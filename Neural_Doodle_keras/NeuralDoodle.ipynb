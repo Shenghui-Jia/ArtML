{
 "cells": [
  {
   "cell_type": "code",
   "execution_count": 1,
   "metadata": {},
   "outputs": [
    {
     "name": "stderr",
     "output_type": "stream",
     "text": [
      "Using TensorFlow backend.\n"
     ]
    }
   ],
   "source": [
    "from __future__ import print_function\n",
    "import time\n",
    "import numpy as np\n",
    "\n",
    "#from scipy.cluster import vq\n",
    "from sklearn.cluster import k_means\n",
    "from scipy.optimize import fmin_l_bfgs_b\n",
    "from scipy.misc import imread, imsave\n",
    "\n",
    "np.random.seed(0)\n",
    "\n",
    "\n",
    "from keras import backend as K\n",
    "from keras.layers import Input, Convolution2D, MaxPooling2D, AveragePooling2D\n",
    "from keras.models import Model\n",
    "from keras.preprocessing.image import load_img, img_to_array\n",
    "from keras.applications import vgg19"
   ]
  },
  {
   "cell_type": "code",
   "execution_count": 2,
   "metadata": {
    "collapsed": true
   },
   "outputs": [],
   "source": [
    "style_img_path = \"Monet/style.png\"\n",
    "style_mask_path = \"Monet/style_mask.png\"\n",
    "target_mask_path = \"Monet/target_mask.png\"\n",
    "\n",
    "content_img_path = None\n",
    "target_img_prefix = \"generated/monet_\"\n",
    "use_content_img = content_img_path is not None\n",
    "\n",
    "nb_labels = 4\n",
    "nb_colors = 3 # RGB"
   ]
  },
  {
   "cell_type": "code",
   "execution_count": 3,
   "metadata": {},
   "outputs": [
    {
     "name": "stdout",
     "output_type": "stream",
     "text": [
      "384 512\n"
     ]
    }
   ],
   "source": [
    "# determine image sizes based on target_mask\n",
    "\n",
    "ref_img = imread(target_mask_path)\n",
    "\n",
    "img_nrows, img_ncols = ref_img.shape[:2]\n",
    "print(img_nrows,img_ncols)"
   ]
  },
  {
   "cell_type": "code",
   "execution_count": 4,
   "metadata": {
    "collapsed": true
   },
   "outputs": [],
   "source": [
    "total_variation_weight = 5000.\n",
    "style_weight = 1.\n",
    "content_weight = 0.025 if use_content_img else 0\n",
    "\n",
    "content_feature_layers = ['block4_conv2']\n",
    "style_feature_layers = ['block1_conv1', 'block2_conv1','block3_conv1', 'block4_conv1','block5_conv1']\n"
   ]
  },
  {
   "cell_type": "code",
   "execution_count": 5,
   "metadata": {
    "collapsed": true
   },
   "outputs": [],
   "source": [
    "# helper functions for reading/processing images\n",
    "\n",
    "def preprocess_image(image_path):\n",
    "    img = load_img(image_path, target_size=(img_nrows, img_ncols))\n",
    "    img = img_to_array(img)\n",
    "    img = np.expand_dims(img, axis=0)\n",
    "    img = vgg19.preprocess_input(img)\n",
    "    return img"
   ]
  },
  {
   "cell_type": "code",
   "execution_count": 6,
   "metadata": {
    "collapsed": true
   },
   "outputs": [],
   "source": [
    "def deprocess_image(x):\n",
    "    if K.image_dim_ordering() == 'th':\n",
    "        x = x.reshape((3, img_nrows, img_ncols))\n",
    "        x = x.transpose((1, 2, 0))\n",
    "    else:\n",
    "        x = x.reshape((img_nrows, img_ncols, 3))\n",
    "    \n",
    "    x = x[:, :, ::-1]\n",
    "    x[:, :, 0] += 103.939\n",
    "    x[:, :, 1] += 116.779\n",
    "    x[:, :, 2] += 123.68\n",
    "    x = np.clip(x, 0, 255).astype('uint8')\n",
    "    return x"
   ]
  },
  {
   "cell_type": "code",
   "execution_count": 7,
   "metadata": {
    "collapsed": true
   },
   "outputs": [],
   "source": [
    "def load_semantic_map():\n",
    "    target_mask_img = img_to_array(load_img(target_mask_path,target_size=(img_nrows, img_ncols)))\n",
    "    style_mask_img = img_to_array(load_img(style_mask_path,target_size=(img_nrows, img_ncols)))\n",
    "\n",
    "    if K.image_dim_ordering() == 'th':\n",
    "        mask_vecs = np.vstack([style_mask_img.reshape((3, -1)).T, target_mask_img.reshape((3, -1)).T])\n",
    "    else:\n",
    "        mask_vecs = np.vstack([style_mask_img.reshape((-1, 3)), target_mask_img.reshape((-1, 3))])\n",
    "\n",
    "    #_, labels = vq.kmeans2(mask_vecs, nb_labels, missing='raise')\n",
    "    _, labels, _ = k_means(mask_vecs.astype(\"float64\"), nb_labels)\n",
    "    \n",
    "    style_mask_label = labels[:img_nrows*img_ncols].reshape((img_nrows, img_ncols))\n",
    "    target_mask_label = labels[img_nrows*img_ncols:].reshape((img_nrows, img_ncols))\n",
    "    style_mask = np.stack([style_mask_label==r for r in xrange(nb_labels)], axis = 0)\n",
    "    target_mask = np.stack([target_mask_label==r for r in xrange(nb_labels)], axis = 0)\n",
    "    return np.expand_dims(style_mask, axis=0), np.expand_dims(target_mask, axis=0)"
   ]
  },
  {
   "cell_type": "code",
   "execution_count": 8,
   "metadata": {
    "collapsed": true
   },
   "outputs": [],
   "source": [
    "# create tensor variables for images\n",
    "\n",
    "if K.image_dim_ordering() == 'th':\n",
    "    shape = (1, nb_colors, img_nrows, img_ncols)\n",
    "else:\n",
    "    shape = (1, img_nrows, img_ncols, nb_colors)    \n",
    "\n",
    "style_image = K.variable(preprocess_image(style_img_path))\n",
    "target_image = K.placeholder(shape = shape)\n",
    "\n",
    "if use_content_img:\n",
    "    content_image = K.variable(preprocess_image(content_img_path))\n",
    "else:\n",
    "    content_image = K.zeros(shape = shape)\n",
    "\n",
    "images = K.concatenate([style_image, target_image, content_image], axis=0)"
   ]
  },
  {
   "cell_type": "code",
   "execution_count": 9,
   "metadata": {
    "collapsed": true
   },
   "outputs": [],
   "source": [
    "# create tensor variables for masks\n",
    "\n",
    "raw_style_mask, raw_target_mask = load_semantic_map()\n",
    "style_mask = K.variable(raw_style_mask.astype(\"float32\"))\n",
    "target_mask = K.variable(raw_target_mask.astype(\"float32\"))\n",
    "masks = K.concatenate([style_mask, target_mask], axis=0)\n",
    "\n",
    "# index constants for images and tasks variables\n",
    "\n",
    "STYLE, TARGET, CONTENT = 0, 1, 2"
   ]
  },
  {
   "cell_type": "code",
   "execution_count": 10,
   "metadata": {
    "collapsed": true
   },
   "outputs": [],
   "source": [
    "# build image model, mask model and target\n",
    "# vgg19 for image model\n",
    "image_model = vgg19.VGG19(include_top=False, input_tensor=images)"
   ]
  },
  {
   "cell_type": "code",
   "execution_count": 11,
   "metadata": {
    "collapsed": true
   },
   "outputs": [],
   "source": [
    "# pooling layers for mask model\n",
    "mask_input = Input(tensor=masks, shape=(None, None, None), name=\"mask_input\")\n",
    "x = mask_input"
   ]
  },
  {
   "cell_type": "code",
   "execution_count": 12,
   "metadata": {},
   "outputs": [
    {
     "name": "stdout",
     "output_type": "stream",
     "text": [
      "block1_conv1\n",
      "block1_conv2\n",
      "block1_pool\n",
      "block2_conv1\n",
      "block2_conv2\n",
      "block2_pool\n",
      "block3_conv1\n",
      "block3_conv2\n",
      "block3_conv3\n",
      "block3_conv4\n",
      "block3_pool\n",
      "block4_conv1\n",
      "block4_conv2\n",
      "block4_conv3\n",
      "block4_conv4\n",
      "block4_pool\n",
      "block5_conv1\n",
      "block5_conv2\n",
      "block5_conv3\n",
      "block5_conv4\n",
      "block5_pool\n"
     ]
    }
   ],
   "source": [
    "#from keras import backend as K\n",
    "#K.set_image_dim_ordering('th')\n",
    "\n",
    "for layer in image_model.layers[1:]:\n",
    "    name = 'mask_%s' % layer.name\n",
    "    print(layer.name)\n",
    "    if 'conv' in layer.name:\n",
    "        x = AveragePooling2D((3, 3), strides = (1, 1), name=name, padding=\"same\",data_format=\"channels_first\")(x)\n",
    "        #x = MaxPooling2D((3, 3), strides = (1, 1), name=name, border_mode=\"same\", )(x)\n",
    "    elif 'pool' in layer.name:\n",
    "        #x = MaxPooling2D((2, 2), name=name)(x)\n",
    "        x = AveragePooling2D((2, 2), name=name,data_format=\"channels_first\")(x)\n",
    "\n"
   ]
  },
  {
   "cell_type": "code",
   "execution_count": 13,
   "metadata": {
    "collapsed": true
   },
   "outputs": [],
   "source": [
    "mask_model = Model(mask_input, x)\n",
    "\n",
    "# collect features from image_model and task_model\n",
    "image_features = {}\n",
    "mask_features = {}\n",
    "\n",
    "for img_layer, mask_layer in zip(image_model.layers, mask_model.layers):\n",
    "    if 'conv' in img_layer.name:\n",
    "        assert 'mask_' + img_layer.name == mask_layer.name\n",
    "        layer_name = img_layer.name\n",
    "        img_feat, mask_feat = img_layer.output, mask_layer.output\n",
    "        image_features[layer_name] = img_feat\n",
    "        mask_features[layer_name] = mask_feat"
   ]
  },
  {
   "cell_type": "code",
   "execution_count": 14,
   "metadata": {
    "collapsed": true
   },
   "outputs": [],
   "source": [
    "# define loss functions\n",
    "# gram matrix helper function\n",
    "\n",
    "def gram_matrix(x):\n",
    "    assert 3 == K.ndim(x)\n",
    "    feats = K.batch_flatten(x)\n",
    "    gram = K.dot(feats, K.transpose(feats))\n",
    "    return gram\n",
    "\n"
   ]
  },
  {
   "cell_type": "code",
   "execution_count": 15,
   "metadata": {
    "collapsed": true
   },
   "outputs": [],
   "source": [
    "# style loss in one region\n",
    "\n",
    "def region_style_loss(style_image, target_image, style_mask, target_mask):\n",
    "    assert 3 == K.ndim(style_image) == K.ndim(target_image)\n",
    "    assert 2 == K.ndim(style_mask) == K.ndim(target_mask)\n",
    "    s = gram_matrix(style_image * style_mask) * K.sum(style_mask)\n",
    "    c = gram_matrix(target_image * target_mask) * K.sum(target_mask)\n",
    "    return K.sum(K.square(s - c)) "
   ]
  },
  {
   "cell_type": "code",
   "execution_count": 16,
   "metadata": {
    "collapsed": true
   },
   "outputs": [],
   "source": [
    "# style loss between style and target images, with\n",
    "# regions defined in a set of masks\n",
    "\n",
    "def style_loss(style_image, target_image, style_masks, target_masks):\n",
    "    assert 3 == K.ndim(style_image) == K.ndim(target_image)\n",
    "    assert 3 == K.ndim(style_masks) == K.ndim(target_masks)\n",
    "    loss = K.variable(0)\n",
    "    for i in xrange(nb_labels):\n",
    "        style_mask = style_masks[i, :, :]\n",
    "        target_mask = target_masks[i, :, :]\n",
    "        loss += region_style_loss(style_image, target_image, style_mask, target_mask)\n",
    "    size = img_nrows * img_ncols\n",
    "    return loss / (4. * nb_colors**2 * size**2)\n",
    "\n"
   ]
  },
  {
   "cell_type": "code",
   "execution_count": 17,
   "metadata": {
    "collapsed": true
   },
   "outputs": [],
   "source": [
    "# content loss between content and target images\n",
    "\n",
    "def content_loss(content_image, target_image):\n",
    "    return K.sum(K.square(target_image - content_image))\n",
    "\n"
   ]
  },
  {
   "cell_type": "code",
   "execution_count": 18,
   "metadata": {
    "collapsed": true
   },
   "outputs": [],
   "source": [
    "# total variance loss for an image\n",
    "\n",
    "def total_variation_loss(x):\n",
    "    assert 4 == K.ndim(x)\n",
    "    if K.image_dim_ordering() == 'th':\n",
    "        a = K.square(x[:, :, :img_nrows-1, :img_ncols-1] - x[:, :, 1:, :img_ncols-1])\n",
    "        b = K.square(x[:, :, :img_nrows-1, :img_ncols-1] - x[:, :, :img_nrows-1, 1:])\n",
    "    else:\n",
    "        a = K.square(x[:, :img_nrows-1, :img_ncols-1, :] - x[:, 1:, :img_ncols-1, :])\n",
    "        b = K.square(x[:, :img_nrows-1, :img_ncols-1, :] - x[:, :img_nrows-1, 1:, :])\n",
    "    return K.sum(K.pow(a + b, 1.25))\n"
   ]
  },
  {
   "cell_type": "code",
   "execution_count": 19,
   "metadata": {
    "collapsed": true
   },
   "outputs": [],
   "source": [
    "loss = K.variable(0)\n",
    "for layer in content_feature_layers:\n",
    "    content_feat = image_features[layer][CONTENT, :, :, :]\n",
    "    target_feat = image_features[layer][TARGET, :, :, :]\n",
    "    loss += content_weight * content_loss(content_feat, target_feat)\n"
   ]
  },
  {
   "cell_type": "code",
   "execution_count": 20,
   "metadata": {
    "collapsed": true
   },
   "outputs": [],
   "source": [
    "for layer in style_feature_layers:\n",
    "    style_feat = image_features[layer][STYLE, :, :, :]\n",
    "    style_feat=K.permute_dimensions(style_feat,[2,0,1])\n",
    "    \n",
    "    target_feat = image_features[layer][TARGET, :, :, :]\n",
    "    target_feat=K.permute_dimensions(target_feat,[2,0,1])\n",
    "    \n",
    "    style_masks = mask_features[layer][STYLE, :, :, :]\n",
    "    target_masks = mask_features[layer][TARGET, :, :, :]\n",
    "    \n",
    "    sl = style_loss(style_feat, target_feat, style_masks, target_masks)\n",
    "    loss += (style_weight / len(style_feature_layers)) * sl\n"
   ]
  },
  {
   "cell_type": "code",
   "execution_count": 21,
   "metadata": {
    "collapsed": true
   },
   "outputs": [],
   "source": [
    "loss += total_variation_weight * total_variation_loss(target_image)\n",
    "loss_grads = K.gradients(loss, target_image)"
   ]
  },
  {
   "cell_type": "code",
   "execution_count": 22,
   "metadata": {
    "collapsed": true
   },
   "outputs": [],
   "source": [
    "# Evaluator class for computing efficiency\n",
    "\n",
    "outputs = [loss]\n",
    "if type(loss_grads) in {list, tuple}:\n",
    "    outputs += loss_grads\n",
    "else:\n",
    "    outputs.append(loss_grads)"
   ]
  },
  {
   "cell_type": "code",
   "execution_count": 23,
   "metadata": {
    "collapsed": true
   },
   "outputs": [],
   "source": [
    "f_outputs = K.function([target_image], outputs)"
   ]
  },
  {
   "cell_type": "code",
   "execution_count": 24,
   "metadata": {
    "collapsed": true
   },
   "outputs": [],
   "source": [
    "def eval_loss_and_grads(x):\n",
    "\n",
    "    if K.image_dim_ordering() == 'th':\n",
    "        x = x.reshape((1, 3, img_nrows, img_ncols))\n",
    "    else:\n",
    "        x = x.reshape((1, img_nrows, img_ncols, 3))\n",
    "\n",
    "    outs = f_outputs([x])\n",
    "    loss_value = outs[0]\n",
    "    if len(outs[1:]) == 1:\n",
    "        grad_values = outs[1].flatten().astype('float64')\n",
    "    else:\n",
    "\n",
    "        grad_values = np.array(outs[1:]).flatten().astype('float64')\n",
    "    return loss_value, grad_values\n"
   ]
  },
  {
   "cell_type": "code",
   "execution_count": 25,
   "metadata": {
    "collapsed": true
   },
   "outputs": [],
   "source": [
    "class Evaluator(object):\n",
    "\n",
    "    def __init__(self):\n",
    "        self.loss_value = None\n",
    "        self.grads_values = None\n",
    "\n",
    "\n",
    "\n",
    "    def loss(self, x):\n",
    "        assert self.loss_value is None\n",
    "        loss_value, grad_values = eval_loss_and_grads(x)\n",
    "        self.loss_value = loss_value\n",
    "        self.grad_values = grad_values\n",
    "        return self.loss_value\n",
    "\n",
    "\n",
    "\n",
    "    def grads(self, x):\n",
    "        assert self.loss_value is not None\n",
    "        grad_values = np.copy(self.grad_values)\n",
    "        self.loss_value = None\n",
    "        self.grad_values = None\n",
    "        return grad_values\n",
    "\n"
   ]
  },
  {
   "cell_type": "code",
   "execution_count": 26,
   "metadata": {
    "collapsed": true
   },
   "outputs": [],
   "source": [
    "evaluator = Evaluator()\n",
    "# Generate images by iterative optimization\n",
    "\n",
    "if K.image_dim_ordering() == 'th':\n",
    "    x = np.random.uniform(0, 255, (1, 3, img_nrows, img_ncols)) - 128.\n",
    "else:\n",
    "    x = np.random.uniform(0, 255, (1, img_nrows, img_ncols, 3)) - 128.\n",
    "\n"
   ]
  },
  {
   "cell_type": "code",
   "execution_count": 27,
   "metadata": {},
   "outputs": [
    {
     "name": "stdout",
     "output_type": "stream",
     "text": [
      "Start of iteration 0\n",
      "Current loss value: 4.85068e+15\n",
      "Image saved as generated/monet__at_iteration_0.png\n",
      "Iteration 0 completed in 11s\n",
      "Start of iteration 1\n",
      "Current loss value: 1.27635e+15\n",
      "Image saved as generated/monet__at_iteration_1.png\n",
      "Iteration 1 completed in 9s\n",
      "Start of iteration 2\n",
      "Current loss value: 7.82232e+14\n",
      "Image saved as generated/monet__at_iteration_2.png\n",
      "Iteration 2 completed in 9s\n",
      "Start of iteration 3\n",
      "Current loss value: 5.18188e+14\n",
      "Image saved as generated/monet__at_iteration_3.png\n",
      "Iteration 3 completed in 9s\n",
      "Start of iteration 4\n",
      "Current loss value: 3.98631e+14\n",
      "Image saved as generated/monet__at_iteration_4.png\n",
      "Iteration 4 completed in 9s\n",
      "Start of iteration 5\n",
      "Current loss value: 3.14658e+14\n",
      "Image saved as generated/monet__at_iteration_5.png\n",
      "Iteration 5 completed in 9s\n",
      "Start of iteration 6\n",
      "Current loss value: 2.55683e+14\n",
      "Image saved as generated/monet__at_iteration_6.png\n",
      "Iteration 6 completed in 9s\n",
      "Start of iteration 7\n",
      "Current loss value: 2.041e+14\n",
      "Image saved as generated/monet__at_iteration_7.png\n",
      "Iteration 7 completed in 9s\n",
      "Start of iteration 8\n",
      "Current loss value: 1.5993e+14\n",
      "Image saved as generated/monet__at_iteration_8.png\n",
      "Iteration 8 completed in 9s\n",
      "Start of iteration 9\n",
      "Current loss value: 1.18178e+14\n",
      "Image saved as generated/monet__at_iteration_9.png\n",
      "Iteration 9 completed in 9s\n",
      "Start of iteration 10\n",
      "Current loss value: 1.04178e+14\n",
      "Image saved as generated/monet__at_iteration_10.png\n",
      "Iteration 10 completed in 9s\n",
      "Start of iteration 11\n",
      "Current loss value: 9.05873e+13\n",
      "Image saved as generated/monet__at_iteration_11.png\n",
      "Iteration 11 completed in 9s\n",
      "Start of iteration 12\n",
      "Current loss value: 8.21977e+13\n",
      "Image saved as generated/monet__at_iteration_12.png\n",
      "Iteration 12 completed in 9s\n",
      "Start of iteration 13\n",
      "Current loss value: 7.61857e+13\n",
      "Image saved as generated/monet__at_iteration_13.png\n",
      "Iteration 13 completed in 9s\n",
      "Start of iteration 14\n",
      "Current loss value: 7.03333e+13\n",
      "Image saved as generated/monet__at_iteration_14.png\n",
      "Iteration 14 completed in 9s\n",
      "Start of iteration 15\n",
      "Current loss value: 6.47601e+13\n",
      "Image saved as generated/monet__at_iteration_15.png\n",
      "Iteration 15 completed in 9s\n",
      "Start of iteration 16\n",
      "Current loss value: 5.91756e+13\n",
      "Image saved as generated/monet__at_iteration_16.png\n",
      "Iteration 16 completed in 9s\n",
      "Start of iteration 17\n",
      "Current loss value: 5.38184e+13\n",
      "Image saved as generated/monet__at_iteration_17.png\n",
      "Iteration 17 completed in 9s\n",
      "Start of iteration 18\n",
      "Current loss value: 4.89235e+13\n",
      "Image saved as generated/monet__at_iteration_18.png\n",
      "Iteration 18 completed in 9s\n",
      "Start of iteration 19\n",
      "Current loss value: 4.63101e+13\n",
      "Image saved as generated/monet__at_iteration_19.png\n",
      "Iteration 19 completed in 9s\n",
      "Start of iteration 20\n",
      "Current loss value: 4.36611e+13\n",
      "Image saved as generated/monet__at_iteration_20.png\n",
      "Iteration 20 completed in 9s\n",
      "Start of iteration 21\n",
      "Current loss value: 4.17213e+13\n",
      "Image saved as generated/monet__at_iteration_21.png\n",
      "Iteration 21 completed in 9s\n",
      "Start of iteration 22\n",
      "Current loss value: 3.97906e+13\n",
      "Image saved as generated/monet__at_iteration_22.png\n",
      "Iteration 22 completed in 9s\n",
      "Start of iteration 23\n",
      "Current loss value: 3.73697e+13\n",
      "Image saved as generated/monet__at_iteration_23.png\n",
      "Iteration 23 completed in 9s\n",
      "Start of iteration 24\n",
      "Current loss value: 3.45922e+13\n",
      "Image saved as generated/monet__at_iteration_24.png\n",
      "Iteration 24 completed in 9s\n",
      "Start of iteration 25\n",
      "Current loss value: 3.29877e+13\n",
      "Image saved as generated/monet__at_iteration_25.png\n",
      "Iteration 25 completed in 9s\n",
      "Start of iteration 26\n",
      "Current loss value: 3.11e+13\n",
      "Image saved as generated/monet__at_iteration_26.png\n",
      "Iteration 26 completed in 9s\n",
      "Start of iteration 27\n",
      "Current loss value: 3.00504e+13\n",
      "Image saved as generated/monet__at_iteration_27.png\n",
      "Iteration 27 completed in 9s\n",
      "Start of iteration 28\n",
      "Current loss value: 2.90558e+13\n",
      "Image saved as generated/monet__at_iteration_28.png\n",
      "Iteration 28 completed in 9s\n",
      "Start of iteration 29\n",
      "Current loss value: 2.81982e+13\n",
      "Image saved as generated/monet__at_iteration_29.png\n",
      "Iteration 29 completed in 9s\n"
     ]
    }
   ],
   "source": [
    "for i in range(30):\n",
    "\n",
    "    print('Start of iteration', i)\n",
    "    start_time = time.time()\n",
    "    x, min_val, info = fmin_l_bfgs_b(evaluator.loss, x.flatten(),fprime=evaluator.grads, maxfun=20)\n",
    "\n",
    "    print('Current loss value:', min_val)\n",
    "\n",
    "    # save current generated image\n",
    "    img = deprocess_image(x.copy())\n",
    "    fname = target_img_prefix + '_at_iteration_%d.png' % i\n",
    "    imsave(fname, img)\n",
    "\n",
    "    end_time = time.time()\n",
    "    print('Image saved as', fname)\n",
    "    print('Iteration %d completed in %ds' % (i, end_time - start_time))"
   ]
  },
  {
   "cell_type": "code",
   "execution_count": null,
   "metadata": {
    "collapsed": true
   },
   "outputs": [],
   "source": []
  },
  {
   "cell_type": "code",
   "execution_count": null,
   "metadata": {
    "collapsed": true
   },
   "outputs": [],
   "source": []
  }
 ],
 "metadata": {
  "kernelspec": {
   "display_name": "Python 2",
   "language": "python",
   "name": "python2"
  },
  "language_info": {
   "codemirror_mode": {
    "name": "ipython",
    "version": 2
   },
   "file_extension": ".py",
   "mimetype": "text/x-python",
   "name": "python",
   "nbconvert_exporter": "python",
   "pygments_lexer": "ipython2",
   "version": "2.7.13"
  }
 },
 "nbformat": 4,
 "nbformat_minor": 2
}
